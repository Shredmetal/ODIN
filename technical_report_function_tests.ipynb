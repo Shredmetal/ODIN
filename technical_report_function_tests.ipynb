{
 "cells": [
  {
   "cell_type": "code",
   "execution_count": 1,
   "metadata": {},
   "outputs": [],
   "source": [
    "import os\n",
    "os.environ[\"KERAS_BACKEND\"] = \"torch\""
   ]
  },
  {
   "cell_type": "code",
   "execution_count": 2,
   "metadata": {},
   "outputs": [
    {
     "name": "stderr",
     "output_type": "stream",
     "text": [
      "Ultralytics YOLOv8.0.207  Python-3.11.5 torch-2.0.1+cu118 CUDA:0 (NVIDIA GeForce RTX 4090, 24564MiB)\n",
      "Setup complete  (24 CPUs, 63.9 GB RAM, 1067.9/1907.7 GB disk)\n"
     ]
    },
    {
     "name": "stdout",
     "output_type": "stream",
     "text": [
      "Using PyTorch backend.\n"
     ]
    }
   ],
   "source": [
    "import ultralytics\n",
    "from ultralytics import RTDETR\n",
    "ultralytics.checks()\n",
    "\n",
    "import keras_core\n",
    "\n",
    "import cv2\n",
    "import numpy as np\n",
    "import matplotlib.pyplot as plt\n",
    "import datetime\n",
    "import pandas as pd\n",
    "\n",
    "from math import sin, cos, tan, pi\n",
    "from geographiclib.geodesic import Geodesic\n"
   ]
  },
  {
   "cell_type": "markdown",
   "metadata": {},
   "source": [
    "# Get the list used by the classifier model"
   ]
  },
  {
   "cell_type": "code",
   "execution_count": 3,
   "metadata": {},
   "outputs": [],
   "source": [
    "classifier_list = ['A10',\n",
    "                   'A400M',\n",
    "                   'AG600',\n",
    "                   'AV8B',\n",
    "                   'B1',\n",
    "                   'B2',\n",
    "                   'B52',\n",
    "                   'Be200',\n",
    "                   'C130',\n",
    "                   'C17',\n",
    "                   'C2',\n",
    "                   'C5',\n",
    "                   'E2',\n",
    "                   'E7',\n",
    "                   'EF2000',\n",
    "                   'F117',\n",
    "                   'F14',\n",
    "                   'F15',\n",
    "                   'F16',\n",
    "                   'F18',\n",
    "                   'F22',\n",
    "                   'F35',\n",
    "                   'F4',\n",
    "                   'J20',\n",
    "                   'JAS39',\n",
    "                   'MQ9',\n",
    "                   'Mig31',\n",
    "                   'Mirage2000',\n",
    "                   'P3',\n",
    "                   'RQ4',\n",
    "                   'Rafale',\n",
    "                   'SR71',\n",
    "                   'Su34',\n",
    "                   'Su57',\n",
    "                   'Tornado',\n",
    "                   'Tu160',\n",
    "                   'Tu95',\n",
    "                   'U2',\n",
    "                   'US2',\n",
    "                   'V22',\n",
    "                   'Vulcan',\n",
    "                   'XB70',\n",
    "                   'YF23']"
   ]
  },
  {
   "cell_type": "markdown",
   "metadata": {},
   "source": [
    "# Load the models"
   ]
  },
  {
   "cell_type": "code",
   "execution_count": 4,
   "metadata": {},
   "outputs": [],
   "source": [
    "cls_model = keras_core.saving.load_model(\"ac_ident_model_adadelta.keras\", custom_objects=None, compile=True, safe_mode=True)\n",
    "\n",
    "det_model = RTDETR(model=\"runs/detect/RTDETR_3/weights/best.pt\")"
   ]
  },
  {
   "cell_type": "markdown",
   "metadata": {},
   "source": [
    "# Test using this image:"
   ]
  },
  {
   "cell_type": "markdown",
   "metadata": {},
   "source": [
    "![test](Assets\\test_imgs\\f_15.jpg)"
   ]
  },
  {
   "cell_type": "markdown",
   "metadata": {},
   "source": [
    "### A single F-15E flying over the end of the runway at Andersen AFB"
   ]
  },
  {
   "cell_type": "markdown",
   "metadata": {},
   "source": [
    "# Predict bounding box"
   ]
  },
  {
   "cell_type": "code",
   "execution_count": 5,
   "metadata": {},
   "outputs": [
    {
     "name": "stderr",
     "output_type": "stream",
     "text": [
      "\n",
      "image 1/1 e:\\GA DSIF\\Capstone\\Assets\\test_imgs\\f_15.jpg: 1280x1280 1 F15, 34.0ms\n",
      "Speed: 8.0ms preprocess, 34.0ms inference, 2.0ms postprocess per image at shape (1, 3, 1280, 1280)\n"
     ]
    }
   ],
   "source": [
    "det_pred = det_model(\"Assets/test_imgs/f_15.jpg\")"
   ]
  },
  {
   "cell_type": "code",
   "execution_count": 6,
   "metadata": {},
   "outputs": [
    {
     "name": "stdout",
     "output_type": "stream",
     "text": [
      "tensor([[1741.7869,  668.3191,   89.3680,   70.5939]], device='cuda:0')\n"
     ]
    }
   ],
   "source": [
    "for r in det_pred:\n",
    "    print(r.boxes.xywh)"
   ]
  },
  {
   "cell_type": "markdown",
   "metadata": {},
   "source": [
    "# Save bounding box locations, centre of box, and size of box"
   ]
  },
  {
   "cell_type": "code",
   "execution_count": 7,
   "metadata": {},
   "outputs": [],
   "source": [
    "for r in det_pred:\n",
    "    x_ctr = r.boxes.xywh[0][0]\n",
    "    y_ctr = r.boxes.xywh[0][1]\n",
    "    x_sz = r.boxes.xywh[0][2]\n",
    "    y_sz = r.boxes.xywh[0][3]\n",
    "    box_left = int(np.round(r.boxes.xyxy[0][0].cpu()))\n",
    "    box_right = int(np.round(r.boxes.xyxy[0][2].cpu()))\n",
    "    box_bottom = int(np.round(r.boxes.xyxy[0][1].cpu()))\n",
    "    box_top = int(np.round(r.boxes.xyxy[0][3].cpu()))"
   ]
  },
  {
   "cell_type": "code",
   "execution_count": 8,
   "metadata": {},
   "outputs": [
    {
     "data": {
      "text/plain": [
       "633"
      ]
     },
     "execution_count": 8,
     "metadata": {},
     "output_type": "execute_result"
    }
   ],
   "source": [
    "box_bottom"
   ]
  },
  {
   "cell_type": "code",
   "execution_count": 9,
   "metadata": {},
   "outputs": [
    {
     "data": {
      "text/plain": [
       "704"
      ]
     },
     "execution_count": 9,
     "metadata": {},
     "output_type": "execute_result"
    }
   ],
   "source": [
    "box_top"
   ]
  },
  {
   "cell_type": "code",
   "execution_count": 10,
   "metadata": {},
   "outputs": [
    {
     "data": {
      "text/plain": [
       "1697"
      ]
     },
     "execution_count": 10,
     "metadata": {},
     "output_type": "execute_result"
    }
   ],
   "source": [
    "box_left"
   ]
  },
  {
   "cell_type": "code",
   "execution_count": 11,
   "metadata": {},
   "outputs": [
    {
     "data": {
      "text/plain": [
       "1786"
      ]
     },
     "execution_count": 11,
     "metadata": {},
     "output_type": "execute_result"
    }
   ],
   "source": [
    "box_right"
   ]
  },
  {
   "cell_type": "markdown",
   "metadata": {},
   "source": [
    "# Check to make sure model has cropped the right thing"
   ]
  },
  {
   "cell_type": "markdown",
   "metadata": {},
   "source": [
    "### disregard colouring as cv2 uses BGR instead of RGB - models take RGB"
   ]
  },
  {
   "cell_type": "code",
   "execution_count": 12,
   "metadata": {},
   "outputs": [
    {
     "data": {
      "text/plain": [
       "<matplotlib.image.AxesImage at 0x27b6663a6d0>"
      ]
     },
     "execution_count": 12,
     "metadata": {},
     "output_type": "execute_result"
    },
    {
     "data": {
      "image/png": "[encoded data removed]",
      "text/plain": [
       "<Figure size 640x480 with 1 Axes>"
      ]
     },
     "metadata": {},
     "output_type": "display_data"
    }
   ],
   "source": [
    "img = cv2.imread(\"Assets/test_imgs/f_15.jpg\")\n",
    "crop_img = img[box_bottom:box_top, box_left:box_right]\n",
    "plt.imshow(crop_img)"
   ]
  },
  {
   "cell_type": "markdown",
   "metadata": {},
   "source": [
    "### Model has picked up the jet"
   ]
  },
  {
   "cell_type": "markdown",
   "metadata": {},
   "source": [
    "# Get datetime to name the file"
   ]
  },
  {
   "cell_type": "code",
   "execution_count": 13,
   "metadata": {},
   "outputs": [],
   "source": [
    "time_now = datetime.datetime.now()\n",
    "\n",
    "dt_str = time_now.strftime(\"%Y%m%d_%H%M%S\")"
   ]
  },
  {
   "cell_type": "code",
   "execution_count": 14,
   "metadata": {},
   "outputs": [
    {
     "data": {
      "text/plain": [
       "'20231125_003759'"
      ]
     },
     "execution_count": 14,
     "metadata": {},
     "output_type": "execute_result"
    }
   ],
   "source": [
    "dt_str"
   ]
  },
  {
   "cell_type": "markdown",
   "metadata": {},
   "source": [
    "# Save the cropped image"
   ]
  },
  {
   "cell_type": "code",
   "execution_count": 15,
   "metadata": {},
   "outputs": [
    {
     "data": {
      "text/plain": [
       "True"
      ]
     },
     "execution_count": 15,
     "metadata": {},
     "output_type": "execute_result"
    }
   ],
   "source": [
    "cv2.imwrite(f\"cropped_pred\\{dt_str}.jpg\", crop_img)"
   ]
  },
  {
   "cell_type": "markdown",
   "metadata": {},
   "source": [
    "# Load cropped image in format appropriate to classification model"
   ]
  },
  {
   "cell_type": "code",
   "execution_count": 16,
   "metadata": {},
   "outputs": [],
   "source": [
    "crop_1 = keras_core.utils.load_img(f\"cropped_pred\\{dt_str}.jpg\",\n",
    "                                    color_mode=\"rgb\",\n",
    "                                    target_size=(256, 256),\n",
    "                                    interpolation=\"nearest\",\n",
    "                                    keep_aspect_ratio=False,\n",
    "                                    )\n"
   ]
  },
  {
   "cell_type": "code",
   "execution_count": 17,
   "metadata": {},
   "outputs": [
    {
     "name": "stdout",
     "output_type": "stream",
     "text": [
      "\u001b[1m1/1\u001b[0m \u001b[32m━━━━━━━━━━━━━━━━━━━━\u001b[0m\u001b[37m\u001b[0m \u001b[1m0s\u001b[0m 67ms/step\n"
     ]
    }
   ],
   "source": [
    "input_arr = keras_core.utils.img_to_array(crop_1)\n",
    "input_arr = np.array([input_arr])\n",
    "cls_pred = cls_model.predict(input_arr)"
   ]
  },
  {
   "cell_type": "code",
   "execution_count": 18,
   "metadata": {},
   "outputs": [],
   "source": [
    "cls_num = cls_pred.argmax()"
   ]
  },
  {
   "cell_type": "markdown",
   "metadata": {},
   "source": [
    "# Check that it made the right classification"
   ]
  },
  {
   "cell_type": "code",
   "execution_count": 19,
   "metadata": {},
   "outputs": [
    {
     "data": {
      "text/plain": [
       "'F15'"
      ]
     },
     "execution_count": 19,
     "metadata": {},
     "output_type": "execute_result"
    }
   ],
   "source": [
    "classifier_list[cls_num]"
   ]
  },
  {
   "cell_type": "code",
   "execution_count": 20,
   "metadata": {},
   "outputs": [],
   "source": [
    "pred_type = classifier_list[cls_num]"
   ]
  },
  {
   "cell_type": "markdown",
   "metadata": {},
   "source": [
    "# Time to write the positional calculation functions"
   ]
  },
  {
   "cell_type": "markdown",
   "metadata": {},
   "source": [
    "### Constants"
   ]
  },
  {
   "cell_type": "code",
   "execution_count": 21,
   "metadata": {},
   "outputs": [],
   "source": [
    "FOV = 78\n",
    "\n",
    "# Get degrees per pixel\n",
    "\n",
    "DPP = (FOV / 2560)\n",
    "\n",
    "# vertical pixel count\n",
    "\n",
    "VPIX = 1440\n",
    "\n",
    "# horizontal pixel count\n",
    "\n",
    "HPIX = 2560"
   ]
  },
  {
   "cell_type": "code",
   "execution_count": 22,
   "metadata": {},
   "outputs": [],
   "source": [
    "df = pd.read_csv(\"Assets/type_data.csv\")"
   ]
  },
  {
   "cell_type": "code",
   "execution_count": 23,
   "metadata": {},
   "outputs": [
    {
     "data": {
      "text/html": [
       "<div>\n",
       "<style scoped>\n",
       "    .dataframe tbody tr th:only-of-type {\n",
       "        vertical-align: middle;\n",
       "    }\n",
       "\n",
       "    .dataframe tbody tr th {\n",
       "        vertical-align: top;\n",
       "    }\n",
       "\n",
       "    .dataframe thead th {\n",
       "        text-align: right;\n",
       "    }\n",
       "</style>\n",
       "<table border=\"1\" class=\"dataframe\">\n",
       "  <thead>\n",
       "    <tr style=\"text-align: right;\">\n",
       "      <th></th>\n",
       "      <th>type</th>\n",
       "      <th>length</th>\n",
       "      <th>wingspan</th>\n",
       "      <th>spanxlength</th>\n",
       "    </tr>\n",
       "  </thead>\n",
       "  <tbody>\n",
       "    <tr>\n",
       "      <th>0</th>\n",
       "      <td>A10</td>\n",
       "      <td>16.260</td>\n",
       "      <td>17.530</td>\n",
       "      <td>16.8950</td>\n",
       "    </tr>\n",
       "    <tr>\n",
       "      <th>1</th>\n",
       "      <td>A400M</td>\n",
       "      <td>45.100</td>\n",
       "      <td>42.400</td>\n",
       "      <td>43.7500</td>\n",
       "    </tr>\n",
       "    <tr>\n",
       "      <th>2</th>\n",
       "      <td>AG600</td>\n",
       "      <td>36.900</td>\n",
       "      <td>38.800</td>\n",
       "      <td>37.8500</td>\n",
       "    </tr>\n",
       "    <tr>\n",
       "      <th>3</th>\n",
       "      <td>AV8B</td>\n",
       "      <td>14.120</td>\n",
       "      <td>9.250</td>\n",
       "      <td>11.6850</td>\n",
       "    </tr>\n",
       "    <tr>\n",
       "      <th>4</th>\n",
       "      <td>B1</td>\n",
       "      <td>45.000</td>\n",
       "      <td>42.000</td>\n",
       "      <td>43.5000</td>\n",
       "    </tr>\n",
       "    <tr>\n",
       "      <th>5</th>\n",
       "      <td>B2</td>\n",
       "      <td>21.000</td>\n",
       "      <td>52.400</td>\n",
       "      <td>36.7000</td>\n",
       "    </tr>\n",
       "    <tr>\n",
       "      <th>6</th>\n",
       "      <td>B52</td>\n",
       "      <td>48.500</td>\n",
       "      <td>56.400</td>\n",
       "      <td>52.4500</td>\n",
       "    </tr>\n",
       "    <tr>\n",
       "      <th>7</th>\n",
       "      <td>Be200</td>\n",
       "      <td>32.000</td>\n",
       "      <td>32.800</td>\n",
       "      <td>32.4000</td>\n",
       "    </tr>\n",
       "    <tr>\n",
       "      <th>8</th>\n",
       "      <td>C130</td>\n",
       "      <td>29.790</td>\n",
       "      <td>40.410</td>\n",
       "      <td>35.1000</td>\n",
       "    </tr>\n",
       "    <tr>\n",
       "      <th>9</th>\n",
       "      <td>C17</td>\n",
       "      <td>53.000</td>\n",
       "      <td>51.755</td>\n",
       "      <td>52.3775</td>\n",
       "    </tr>\n",
       "    <tr>\n",
       "      <th>10</th>\n",
       "      <td>C2</td>\n",
       "      <td>43.900</td>\n",
       "      <td>44.400</td>\n",
       "      <td>44.1500</td>\n",
       "    </tr>\n",
       "    <tr>\n",
       "      <th>11</th>\n",
       "      <td>C5</td>\n",
       "      <td>75.310</td>\n",
       "      <td>67.890</td>\n",
       "      <td>71.6000</td>\n",
       "    </tr>\n",
       "    <tr>\n",
       "      <th>12</th>\n",
       "      <td>E2</td>\n",
       "      <td>17.596</td>\n",
       "      <td>24.560</td>\n",
       "      <td>21.0780</td>\n",
       "    </tr>\n",
       "    <tr>\n",
       "      <th>13</th>\n",
       "      <td>E7</td>\n",
       "      <td>33.600</td>\n",
       "      <td>35.800</td>\n",
       "      <td>34.7000</td>\n",
       "    </tr>\n",
       "    <tr>\n",
       "      <th>14</th>\n",
       "      <td>EF2000</td>\n",
       "      <td>15.960</td>\n",
       "      <td>10.950</td>\n",
       "      <td>13.4550</td>\n",
       "    </tr>\n",
       "    <tr>\n",
       "      <th>15</th>\n",
       "      <td>F117</td>\n",
       "      <td>20.090</td>\n",
       "      <td>13.210</td>\n",
       "      <td>16.6500</td>\n",
       "    </tr>\n",
       "    <tr>\n",
       "      <th>16</th>\n",
       "      <td>F14</td>\n",
       "      <td>13.210</td>\n",
       "      <td>19.545</td>\n",
       "      <td>16.3775</td>\n",
       "    </tr>\n",
       "    <tr>\n",
       "      <th>17</th>\n",
       "      <td>F15</td>\n",
       "      <td>19.446</td>\n",
       "      <td>13.045</td>\n",
       "      <td>16.2455</td>\n",
       "    </tr>\n",
       "    <tr>\n",
       "      <th>18</th>\n",
       "      <td>F16</td>\n",
       "      <td>15.060</td>\n",
       "      <td>9.960</td>\n",
       "      <td>12.5100</td>\n",
       "    </tr>\n",
       "    <tr>\n",
       "      <th>19</th>\n",
       "      <td>F18</td>\n",
       "      <td>17.100</td>\n",
       "      <td>12.300</td>\n",
       "      <td>14.7000</td>\n",
       "    </tr>\n",
       "    <tr>\n",
       "      <th>20</th>\n",
       "      <td>F22</td>\n",
       "      <td>18.920</td>\n",
       "      <td>13.560</td>\n",
       "      <td>16.2400</td>\n",
       "    </tr>\n",
       "    <tr>\n",
       "      <th>21</th>\n",
       "      <td>F35</td>\n",
       "      <td>15.700</td>\n",
       "      <td>11.000</td>\n",
       "      <td>13.3500</td>\n",
       "    </tr>\n",
       "    <tr>\n",
       "      <th>22</th>\n",
       "      <td>F4</td>\n",
       "      <td>19.200</td>\n",
       "      <td>11.700</td>\n",
       "      <td>15.4500</td>\n",
       "    </tr>\n",
       "    <tr>\n",
       "      <th>23</th>\n",
       "      <td>J20</td>\n",
       "      <td>21.200</td>\n",
       "      <td>13.010</td>\n",
       "      <td>17.1050</td>\n",
       "    </tr>\n",
       "    <tr>\n",
       "      <th>24</th>\n",
       "      <td>JAS39</td>\n",
       "      <td>14.900</td>\n",
       "      <td>8.400</td>\n",
       "      <td>11.6500</td>\n",
       "    </tr>\n",
       "    <tr>\n",
       "      <th>25</th>\n",
       "      <td>MQ9</td>\n",
       "      <td>11.000</td>\n",
       "      <td>20.000</td>\n",
       "      <td>15.5000</td>\n",
       "    </tr>\n",
       "    <tr>\n",
       "      <th>26</th>\n",
       "      <td>Mig31</td>\n",
       "      <td>22.620</td>\n",
       "      <td>13.456</td>\n",
       "      <td>18.0380</td>\n",
       "    </tr>\n",
       "    <tr>\n",
       "      <th>27</th>\n",
       "      <td>Mirage2000</td>\n",
       "      <td>14.360</td>\n",
       "      <td>9.130</td>\n",
       "      <td>11.7450</td>\n",
       "    </tr>\n",
       "    <tr>\n",
       "      <th>28</th>\n",
       "      <td>P3</td>\n",
       "      <td>35.610</td>\n",
       "      <td>30.380</td>\n",
       "      <td>32.9950</td>\n",
       "    </tr>\n",
       "    <tr>\n",
       "      <th>29</th>\n",
       "      <td>RQ4</td>\n",
       "      <td>14.500</td>\n",
       "      <td>39.900</td>\n",
       "      <td>27.2000</td>\n",
       "    </tr>\n",
       "    <tr>\n",
       "      <th>30</th>\n",
       "      <td>Rafale</td>\n",
       "      <td>15.270</td>\n",
       "      <td>10.900</td>\n",
       "      <td>13.0850</td>\n",
       "    </tr>\n",
       "    <tr>\n",
       "      <th>31</th>\n",
       "      <td>SR71</td>\n",
       "      <td>32.740</td>\n",
       "      <td>16.940</td>\n",
       "      <td>24.8400</td>\n",
       "    </tr>\n",
       "    <tr>\n",
       "      <th>32</th>\n",
       "      <td>Su34</td>\n",
       "      <td>23.340</td>\n",
       "      <td>14.700</td>\n",
       "      <td>19.0200</td>\n",
       "    </tr>\n",
       "    <tr>\n",
       "      <th>33</th>\n",
       "      <td>Su57</td>\n",
       "      <td>20.100</td>\n",
       "      <td>14.100</td>\n",
       "      <td>17.1000</td>\n",
       "    </tr>\n",
       "    <tr>\n",
       "      <th>34</th>\n",
       "      <td>Tornado</td>\n",
       "      <td>16.720</td>\n",
       "      <td>13.910</td>\n",
       "      <td>15.3150</td>\n",
       "    </tr>\n",
       "    <tr>\n",
       "      <th>35</th>\n",
       "      <td>Tu160</td>\n",
       "      <td>54.100</td>\n",
       "      <td>55.700</td>\n",
       "      <td>54.9000</td>\n",
       "    </tr>\n",
       "    <tr>\n",
       "      <th>36</th>\n",
       "      <td>Tu95</td>\n",
       "      <td>46.200</td>\n",
       "      <td>50.100</td>\n",
       "      <td>48.1500</td>\n",
       "    </tr>\n",
       "    <tr>\n",
       "      <th>37</th>\n",
       "      <td>U2</td>\n",
       "      <td>19.200</td>\n",
       "      <td>31.000</td>\n",
       "      <td>25.1000</td>\n",
       "    </tr>\n",
       "    <tr>\n",
       "      <th>38</th>\n",
       "      <td>US2</td>\n",
       "      <td>33.460</td>\n",
       "      <td>33.150</td>\n",
       "      <td>33.3050</td>\n",
       "    </tr>\n",
       "    <tr>\n",
       "      <th>39</th>\n",
       "      <td>V22</td>\n",
       "      <td>17.480</td>\n",
       "      <td>13.970</td>\n",
       "      <td>15.7250</td>\n",
       "    </tr>\n",
       "    <tr>\n",
       "      <th>40</th>\n",
       "      <td>Vulcan</td>\n",
       "      <td>29.590</td>\n",
       "      <td>30.300</td>\n",
       "      <td>29.9450</td>\n",
       "    </tr>\n",
       "    <tr>\n",
       "      <th>41</th>\n",
       "      <td>XB70</td>\n",
       "      <td>56.390</td>\n",
       "      <td>32.000</td>\n",
       "      <td>44.1950</td>\n",
       "    </tr>\n",
       "    <tr>\n",
       "      <th>42</th>\n",
       "      <td>YF23</td>\n",
       "      <td>20.550</td>\n",
       "      <td>13.280</td>\n",
       "      <td>16.9150</td>\n",
       "    </tr>\n",
       "  </tbody>\n",
       "</table>\n",
       "</div>"
      ],
      "text/plain": [
       "          type  length  wingspan  spanxlength\n",
       "0          A10  16.260    17.530      16.8950\n",
       "1        A400M  45.100    42.400      43.7500\n",
       "2        AG600  36.900    38.800      37.8500\n",
       "3         AV8B  14.120     9.250      11.6850\n",
       "4           B1  45.000    42.000      43.5000\n",
       "5           B2  21.000    52.400      36.7000\n",
       "6          B52  48.500    56.400      52.4500\n",
       "7        Be200  32.000    32.800      32.4000\n",
       "8         C130  29.790    40.410      35.1000\n",
       "9          C17  53.000    51.755      52.3775\n",
       "10          C2  43.900    44.400      44.1500\n",
       "11          C5  75.310    67.890      71.6000\n",
       "12          E2  17.596    24.560      21.0780\n",
       "13          E7  33.600    35.800      34.7000\n",
       "14      EF2000  15.960    10.950      13.4550\n",
       "15        F117  20.090    13.210      16.6500\n",
       "16         F14  13.210    19.545      16.3775\n",
       "17         F15  19.446    13.045      16.2455\n",
       "18         F16  15.060     9.960      12.5100\n",
       "19         F18  17.100    12.300      14.7000\n",
       "20         F22  18.920    13.560      16.2400\n",
       "21         F35  15.700    11.000      13.3500\n",
       "22          F4  19.200    11.700      15.4500\n",
       "23         J20  21.200    13.010      17.1050\n",
       "24       JAS39  14.900     8.400      11.6500\n",
       "25         MQ9  11.000    20.000      15.5000\n",
       "26       Mig31  22.620    13.456      18.0380\n",
       "27  Mirage2000  14.360     9.130      11.7450\n",
       "28          P3  35.610    30.380      32.9950\n",
       "29         RQ4  14.500    39.900      27.2000\n",
       "30      Rafale  15.270    10.900      13.0850\n",
       "31        SR71  32.740    16.940      24.8400\n",
       "32        Su34  23.340    14.700      19.0200\n",
       "33        Su57  20.100    14.100      17.1000\n",
       "34     Tornado  16.720    13.910      15.3150\n",
       "35       Tu160  54.100    55.700      54.9000\n",
       "36        Tu95  46.200    50.100      48.1500\n",
       "37          U2  19.200    31.000      25.1000\n",
       "38         US2  33.460    33.150      33.3050\n",
       "39         V22  17.480    13.970      15.7250\n",
       "40      Vulcan  29.590    30.300      29.9450\n",
       "41        XB70  56.390    32.000      44.1950\n",
       "42        YF23  20.550    13.280      16.9150"
      ]
     },
     "execution_count": 23,
     "metadata": {},
     "output_type": "execute_result"
    }
   ],
   "source": [
    "df"
   ]
  },
  {
   "cell_type": "markdown",
   "metadata": {},
   "source": [
    "## Distance"
   ]
  },
  {
   "cell_type": "code",
   "execution_count": 24,
   "metadata": {},
   "outputs": [],
   "source": [
    "def get_distance(type_df, type, pix_width, dpp=DPP):\n",
    "    spanxlength = type_df.loc[type_df[\"type\"] == type, \"spanxlength\"].iloc[0]\n",
    "    trg_opp = (spanxlength / 2)\n",
    "    width = float(pix_width.cpu())\n",
    "    trg_theta = ((width*dpp) / 2)\n",
    "    trg_adj = (trg_opp / (tan((trg_theta * pi) / 180)))\n",
    "    return trg_adj"
   ]
  },
  {
   "cell_type": "code",
   "execution_count": 25,
   "metadata": {},
   "outputs": [],
   "source": [
    "dst = get_distance(df, pred_type, x_sz)"
   ]
  },
  {
   "cell_type": "code",
   "execution_count": 26,
   "metadata": {},
   "outputs": [
    {
     "data": {
      "text/plain": [
       "341.7724758071199"
      ]
     },
     "execution_count": 26,
     "metadata": {},
     "output_type": "execute_result"
    }
   ],
   "source": [
    "dst"
   ]
  },
  {
   "cell_type": "markdown",
   "metadata": {},
   "source": [
    "# Target Altitude"
   ]
  },
  {
   "cell_type": "code",
   "execution_count": 27,
   "metadata": {},
   "outputs": [],
   "source": [
    "def get_altitude(distance, cam_elev, cam_alt, y_ctr, ypix=VPIX, dpp=DPP):\n",
    "    y_ctr = (float(y_ctr.cpu()) * dpp)\n",
    "    bottom_y_cam = cam_elev - ((ypix/2) * dpp)\n",
    "    trg_theta = bottom_y_cam + y_ctr\n",
    "    trg_hyp = distance\n",
    "    trg_opp = (trg_hyp * (sin((trg_theta * pi) / 180)))\n",
    "    return ((trg_opp * 3.28084) + cam_alt)\n"
   ]
  },
  {
   "cell_type": "code",
   "execution_count": 28,
   "metadata": {},
   "outputs": [
    {
     "data": {
      "text/plain": [
       "1584.909723390308"
      ]
     },
     "execution_count": 28,
     "metadata": {},
     "output_type": "execute_result"
    }
   ],
   "source": [
    "get_altitude(dst, 59, 640, y_ctr)"
   ]
  },
  {
   "cell_type": "code",
   "execution_count": 29,
   "metadata": {},
   "outputs": [],
   "source": [
    "tgt_alt = get_altitude(dst, 59, 640, y_ctr)"
   ]
  },
  {
   "cell_type": "markdown",
   "metadata": {},
   "source": [
    "## The aircraft was set to fly at 1500 ft - the estimate is only 84 feet off which is nothing in aviation"
   ]
  },
  {
   "cell_type": "markdown",
   "metadata": {},
   "source": [
    "# Get coordinates"
   ]
  },
  {
   "cell_type": "markdown",
   "metadata": {},
   "source": [
    "### Start with horizontal distance"
   ]
  },
  {
   "cell_type": "code",
   "execution_count": 30,
   "metadata": {},
   "outputs": [],
   "source": [
    "def get_horizontal_distance(distance, cam_elev, y_ctr, ypix=VPIX, dpp=DPP):\n",
    "    y_ctr = (float(y_ctr.cpu()) * dpp)\n",
    "    bottom_y_cam = cam_elev - ((ypix/2) * dpp)\n",
    "    trg_theta = bottom_y_cam + y_ctr\n",
    "    trg_hyp = distance\n",
    "    trg_adj = (trg_hyp * (cos((trg_theta * pi) / 180)))\n",
    "    return trg_adj"
   ]
  },
  {
   "cell_type": "code",
   "execution_count": 31,
   "metadata": {},
   "outputs": [
    {
     "data": {
      "text/plain": [
       "184.0096297779252"
      ]
     },
     "execution_count": 31,
     "metadata": {},
     "output_type": "execute_result"
    }
   ],
   "source": [
    "get_horizontal_distance(dst, 59, y_ctr)"
   ]
  },
  {
   "cell_type": "code",
   "execution_count": 32,
   "metadata": {},
   "outputs": [],
   "source": [
    "hz_dst = get_horizontal_distance(dst, 59, y_ctr)"
   ]
  },
  {
   "cell_type": "markdown",
   "metadata": {},
   "source": [
    "### Then get the azimuth"
   ]
  },
  {
   "cell_type": "code",
   "execution_count": 33,
   "metadata": {},
   "outputs": [],
   "source": [
    "def get_azimuth(cam_az, x_ctr, xpix=HPIX, dpp=DPP):\n",
    "    x_ctr = (float(x_ctr.cpu()) * dpp)\n",
    "    left_x_cam = cam_az - ((xpix / 2) * dpp)\n",
    "    tgt_az = (left_x_cam + x_ctr) % 360\n",
    "    return(tgt_az)"
   ]
  },
  {
   "cell_type": "code",
   "execution_count": 34,
   "metadata": {},
   "outputs": [
    {
     "data": {
      "text/plain": [
       "51.07006855010986"
      ]
     },
     "execution_count": 34,
     "metadata": {},
     "output_type": "execute_result"
    }
   ],
   "source": [
    "get_azimuth(37, x_ctr)"
   ]
  },
  {
   "cell_type": "code",
   "execution_count": 35,
   "metadata": {},
   "outputs": [],
   "source": [
    "az = get_azimuth(37, x_ctr)"
   ]
  },
  {
   "cell_type": "markdown",
   "metadata": {},
   "source": [
    "### Solve the geodesic problem"
   ]
  },
  {
   "cell_type": "code",
   "execution_count": 36,
   "metadata": {},
   "outputs": [],
   "source": [
    "# function to convert dms to dd\n",
    "\n",
    "def dms_to_dd(d, m, s, NE):\n",
    "    dd = d + float(m)/60 + float(s)/3600\n",
    "    if NE == \"S\" or NE == \"W\":\n",
    "        dd *= -1\n",
    "    return dd"
   ]
  },
  {
   "cell_type": "code",
   "execution_count": 37,
   "metadata": {},
   "outputs": [],
   "source": [
    "def get_tgt_coords(hz_dst, az, cam_lat, cam_long):\n",
    "    geo_obj = Geodesic.WGS84.Direct(cam_lat, cam_long, az, hz_dst)\n",
    "    tgt_lat = geo_obj[\"lat2\"]\n",
    "    tgt_lon = geo_obj[\"lon2\"]\n",
    "    return (tgt_lat, tgt_lon)"
   ]
  },
  {
   "cell_type": "code",
   "execution_count": 38,
   "metadata": {},
   "outputs": [],
   "source": [
    "cam_lat = dms_to_dd(13, 35, 28, \"N\")\n",
    "\n",
    "cam_long = dms_to_dd(144, 56, 47, \"E\")"
   ]
  },
  {
   "cell_type": "code",
   "execution_count": 39,
   "metadata": {},
   "outputs": [
    {
     "data": {
      "text/plain": [
       "13.591111111111111"
      ]
     },
     "execution_count": 39,
     "metadata": {},
     "output_type": "execute_result"
    }
   ],
   "source": [
    "cam_lat"
   ]
  },
  {
   "cell_type": "code",
   "execution_count": 40,
   "metadata": {},
   "outputs": [
    {
     "data": {
      "text/plain": [
       "(13.592156214424612, 144.94771157856493)"
      ]
     },
     "execution_count": 40,
     "metadata": {},
     "output_type": "execute_result"
    }
   ],
   "source": [
    "get_tgt_coords(hz_dst, az, cam_lat, cam_long)"
   ]
  },
  {
   "cell_type": "code",
   "execution_count": 41,
   "metadata": {},
   "outputs": [],
   "source": [
    "tgt_coords = get_tgt_coords(hz_dst, az, cam_lat, cam_long)"
   ]
  },
  {
   "cell_type": "markdown",
   "metadata": {},
   "source": [
    "# Check where it thinks the jet is:"
   ]
  },
  {
   "cell_type": "markdown",
   "metadata": {},
   "source": [
    "![tgt_loc](Assets\\gmaps\\tgt_1_loc.jpg)"
   ]
  },
  {
   "cell_type": "markdown",
   "metadata": {},
   "source": [
    "# Check camera position"
   ]
  },
  {
   "cell_type": "markdown",
   "metadata": {},
   "source": [
    "![tgt_loc](Assets\\gmaps\\cam_loc.jpg)"
   ]
  },
  {
   "cell_type": "markdown",
   "metadata": {},
   "source": [
    "# The system works:"
   ]
  },
  {
   "cell_type": "code",
   "execution_count": 42,
   "metadata": {},
   "outputs": [
    {
     "data": {
      "text/plain": [
       "(13.592156214424612, 144.94771157856493)"
      ]
     },
     "execution_count": 42,
     "metadata": {},
     "output_type": "execute_result"
    }
   ],
   "source": [
    "# Target coordinates:\n",
    "\n",
    "tgt_coords"
   ]
  },
  {
   "cell_type": "code",
   "execution_count": 43,
   "metadata": {},
   "outputs": [
    {
     "data": {
      "text/plain": [
       "1584.909723390308"
      ]
     },
     "execution_count": 43,
     "metadata": {},
     "output_type": "execute_result"
    }
   ],
   "source": [
    "# Target altitude:\n",
    "\n",
    "tgt_alt"
   ]
  },
  {
   "cell_type": "code",
   "execution_count": 44,
   "metadata": {},
   "outputs": [
    {
     "data": {
      "text/plain": [
       "'F15'"
      ]
     },
     "execution_count": 44,
     "metadata": {},
     "output_type": "execute_result"
    }
   ],
   "source": [
    "# Target type:\n",
    "\n",
    "pred_type"
   ]
  },
  {
   "cell_type": "code",
   "execution_count": 45,
   "metadata": {},
   "outputs": [
    {
     "data": {
      "text/plain": [
       "<matplotlib.image.AxesImage at 0x27c588ca6d0>"
      ]
     },
     "execution_count": 45,
     "metadata": {},
     "output_type": "execute_result"
    },
    {
     "data": {
      "image/png": "[encoded data removed]",
      "text/plain": [
       "<Figure size 640x480 with 1 Axes>"
      ]
     },
     "metadata": {},
     "output_type": "display_data"
    }
   ],
   "source": [
    "# What the target looks like:\n",
    "\n",
    "img = cv2.imread(\"Assets/test_imgs/f_15.jpg\")\n",
    "crop_img = img[box_bottom:box_top, box_left:box_right]\n",
    "crop_img = cv2.cvtColor(crop_img, cv2.COLOR_BGR2RGB)\n",
    "plt.imshow(crop_img)"
   ]
  },
  {
   "cell_type": "markdown",
   "metadata": {},
   "source": [
    "# Next step - build UI + integrate this into a coherent program"
   ]
  },
  {
   "cell_type": "markdown",
   "metadata": {},
   "source": []
  }
 ],
 "metadata": {
  "kernelspec": {
   "display_name": ".venv",
   "language": "python",
   "name": "python3"
  },
  "language_info": {
   "codemirror_mode": {
    "name": "ipython",
    "version": 3
   },
   "file_extension": ".py",
   "mimetype": "text/x-python",
   "name": "python",
   "nbconvert_exporter": "python",
   "pygments_lexer": "ipython3",
   "version": "3.11.5"
  }
 },
 "nbformat": 4,
 "nbformat_minor": 2
}
